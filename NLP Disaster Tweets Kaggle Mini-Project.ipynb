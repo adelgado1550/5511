{
 "cells": [
  {
   "cell_type": "code",
   "execution_count": 29,
   "metadata": {},
   "outputs": [
    {
     "name": "stdout",
     "output_type": "stream",
     "text": [
      "Data Description:\n",
      "This Kaggle competition involves classifying tweets into two categories: disaster-related or non-disaster-related.\n",
      "The training data contains the following columns:\n",
      "1. 'id': Unique identifier for each tweet\n",
      "2. 'keyword': Contains a relevant keyword, or NaN\n",
      "3. 'location': The location from which the tweet was posted, or NaN\n",
      "4. 'text': The actual tweet content\n",
      "5. 'target': The label for the tweet (1 for disaster-related, 0 for non-disaster-related)\n"
     ]
    }
   ],
   "source": [
    "# Display basic description of the data\n",
    "print(\"Data Description:\")\n",
    "print(\"This Kaggle competition involves classifying tweets into two categories: disaster-related or non-disaster-related.\")\n",
    "print(\"The training data contains the following columns:\")\n",
    "print(\"1. 'id': Unique identifier for each tweet\")\n",
    "print(\"2. 'keyword': Contains a relevant keyword, or NaN\")\n",
    "print(\"3. 'location': The location from which the tweet was posted, or NaN\")\n",
    "print(\"4. 'text': The actual tweet content\")\n",
    "print(\"5. 'target': The label for the tweet (1 for disaster-related, 0 for non-disaster-related)\")"
   ]
  },
  {
   "cell_type": "code",
   "execution_count": 28,
   "metadata": {},
   "outputs": [
    {
     "name": "stdout",
     "output_type": "stream",
     "text": [
      "Training Data:\n",
      "   id keyword location                                               text  \\\n",
      "0   1     NaN      NaN  Our Deeds are the Reason of this #earthquake M...   \n",
      "1   4     NaN      NaN             Forest fire near La Ronge Sask. Canada   \n",
      "2   5     NaN      NaN  All residents asked to 'shelter in place' are ...   \n",
      "3   6     NaN      NaN  13,000 people receive #wildfires evacuation or...   \n",
      "4   7     NaN      NaN  Just got sent this photo from Ruby #Alaska as ...   \n",
      "\n",
      "   target  \n",
      "0       1  \n",
      "1       1  \n",
      "2       1  \n",
      "3       1  \n",
      "4       1  \n",
      "\n",
      "Test Data:\n",
      "   id keyword location                                               text\n",
      "0   0     NaN      NaN                 Just happened a terrible car crash\n",
      "1   2     NaN      NaN  Heard about #earthquake is different cities, s...\n",
      "2   3     NaN      NaN  there is a forest fire at spot pond, geese are...\n",
      "3   9     NaN      NaN           Apocalypse lighting. #Spokane #wildfires\n",
      "4  11     NaN      NaN      Typhoon Soudelor kills 28 in China and Taiwan\n",
      "\n",
      "Sample Submission Data:\n",
      "   id  target\n",
      "0   0       0\n",
      "1   2       0\n",
      "2   3       0\n",
      "3   9       0\n",
      "4  11       0\n"
     ]
    }
   ],
   "source": [
    "import pandas as pd\n",
    "\n",
    "# Load the datasets\n",
    "train_df = pd.read_csv('train.csv')\n",
    "test_df = pd.read_csv('test.csv')\n",
    "sample_submission_df = pd.read_csv('sample_submission.csv')\n",
    "\n",
    "# Display the first few rows of the datasets\n",
    "print(\"Training Data:\")\n",
    "print(train_df.head())\n",
    "print(\"\\nTest Data:\")\n",
    "print(test_df.head())\n",
    "print(\"\\nSample Submission Data:\")\n",
    "print(sample_submission_df.head())"
   ]
  },
  {
   "cell_type": "code",
   "execution_count": 10,
   "metadata": {},
   "outputs": [
    {
     "name": "stdout",
     "output_type": "stream",
     "text": [
      "   id keyword location                                               text  \\\n",
      "0   1     NaN      NaN  Our Deeds are the Reason of this #earthquake M...   \n",
      "1   4     NaN      NaN             Forest fire near La Ronge Sask. Canada   \n",
      "2   5     NaN      NaN  All residents asked to 'shelter in place' are ...   \n",
      "3   6     NaN      NaN  13,000 people receive #wildfires evacuation or...   \n",
      "4   7     NaN      NaN  Just got sent this photo from Ruby #Alaska as ...   \n",
      "\n",
      "   target  \n",
      "0       1  \n",
      "1       1  \n",
      "2       1  \n",
      "3       1  \n",
      "4       1  \n"
     ]
    }
   ],
   "source": [
    "# Display the first few rows of the dataframe to inspect the data\n",
    "print(train_df.head())"
   ]
  },
  {
   "cell_type": "code",
   "execution_count": 11,
   "metadata": {},
   "outputs": [
    {
     "name": "stdout",
     "output_type": "stream",
     "text": [
      "id           int64\n",
      "keyword     object\n",
      "location    object\n",
      "text        object\n",
      "target       int64\n",
      "dtype: object\n"
     ]
    }
   ],
   "source": [
    "# Check column types\n",
    "print(train_df.dtypes)"
   ]
  },
  {
   "cell_type": "code",
   "execution_count": 12,
   "metadata": {},
   "outputs": [
    {
     "name": "stdout",
     "output_type": "stream",
     "text": [
      "Column: id, Type: <class 'numpy.int64'>\n",
      "Column: keyword, Type: <class 'float'>\n",
      "Column: location, Type: <class 'float'>\n",
      "Column: text, Type: <class 'str'>\n",
      "Column: target, Type: <class 'numpy.int64'>\n"
     ]
    }
   ],
   "source": [
    "# Check for object type columns that might be causing issues\n",
    "for col in train_df.columns:\n",
    "    print(f\"Column: {col}, Type: {type(train_df[col].iloc[0])}\")"
   ]
  },
  {
   "cell_type": "code",
   "execution_count": 13,
   "metadata": {},
   "outputs": [
    {
     "name": "stdout",
     "output_type": "stream",
     "text": [
      "id             0\n",
      "keyword       61\n",
      "location    2533\n",
      "text           0\n",
      "target         0\n",
      "dtype: int64\n"
     ]
    }
   ],
   "source": [
    "# Check for any completely empty rows\n",
    "print(train_df.isnull().sum())"
   ]
  },
  {
   "cell_type": "code",
   "execution_count": 14,
   "metadata": {},
   "outputs": [
    {
     "name": "stdout",
     "output_type": "stream",
     "text": [
      "id          0\n",
      "keyword     0\n",
      "location    0\n",
      "text        0\n",
      "target      0\n",
      "dtype: int64\n"
     ]
    }
   ],
   "source": [
    "# Fill missing 'keyword' with a placeholder (e.g., 'unknown')\n",
    "train_df['keyword'] = train_df['keyword'].fillna('unknown')\n",
    "\n",
    "# Fill missing 'location' with a placeholder (e.g., 'unknown')\n",
    "train_df['location'] = train_df['location'].fillna('unknown')\n",
    "\n",
    "# Convert 'keyword' and 'location' columns to object type (categorical data)\n",
    "train_df['keyword'] = train_df['keyword'].astype('object')\n",
    "train_df['location'] = train_df['location'].astype('object')\n",
    "\n",
    "# Check if missing values are handled\n",
    "print(train_df.isnull().sum())"
   ]
  },
  {
   "cell_type": "code",
   "execution_count": 16,
   "metadata": {},
   "outputs": [
    {
     "data": {
      "image/png": "[encoded data removed]",
      "text/plain": [
       "<Figure size 720x432 with 1 Axes>"
      ]
     },
     "metadata": {
      "needs_background": "light"
     },
     "output_type": "display_data"
    }
   ],
   "source": [
    "import matplotlib.pyplot as plt\n",
    "import seaborn as sns\n",
    "\n",
    "# Visualize the distribution of the target variable\n",
    "plt.figure(figsize=(10, 6))\n",
    "sns.countplot(x='target', data=train_df)\n",
    "plt.title('Class Distribution of Target Variable')\n",
    "plt.show()"
   ]
  },
  {
   "cell_type": "code",
   "execution_count": 25,
   "metadata": {},
   "outputs": [
    {
     "name": "stderr",
     "output_type": "stream",
     "text": [
      "[nltk_data] Downloading package punkt to /home/jovyan/nltk_data...\n",
      "[nltk_data]   Package punkt is already up-to-date!\n",
      "[nltk_data] Downloading package stopwords to /home/jovyan/nltk_data...\n",
      "[nltk_data]   Unzipping corpora/stopwords.zip.\n"
     ]
    },
    {
     "data": {
      "image/png": "[encoded data removed]",
      "text/plain": [
       "<Figure size 720x432 with 1 Axes>"
      ]
     },
     "metadata": {
      "needs_background": "light"
     },
     "output_type": "display_data"
    }
   ],
   "source": [
    "from collections import Counter\n",
    "import nltk\n",
    "import matplotlib.pyplot as plt\n",
    "\n",
    "# Download NLTK resources\n",
    "nltk.download('punkt')\n",
    "nltk.download('stopwords')\n",
    "\n",
    "# Tokenize the text data and get word frequencies\n",
    "all_words = ' '.join(train_df['text'].dropna())\n",
    "tokens = nltk.word_tokenize(all_words)\n",
    "tokens = [word for word in tokens if word.isalpha()]  # Remove non-alphabetic characters\n",
    "\n",
    "# Remove stopwords\n",
    "stop_words = set(nltk.corpus.stopwords.words('english'))\n",
    "tokens = [word for word in tokens if word not in stop_words]\n",
    "\n",
    "# Get the frequency of each word\n",
    "word_freq = Counter(tokens)\n",
    "\n",
    "# Get the 10 most common words\n",
    "common_words = word_freq.most_common(10)\n",
    "\n",
    "# Plot the most common words\n",
    "words, counts = zip(*common_words)\n",
    "plt.figure(figsize=(10, 6))\n",
    "plt.bar(words, counts)\n",
    "plt.title('Top 10 Most Frequent Words')\n",
    "plt.xticks(rotation=45)\n",
    "plt.show()"
   ]
  },
  {
   "cell_type": "code",
   "execution_count": 30,
   "metadata": {},
   "outputs": [
    {
     "data": {
      "image/png": "[encoded data removed]",
      "text/plain": [
       "<Figure size 576x432 with 1 Axes>"
      ]
     },
     "metadata": {
      "needs_background": "light"
     },
     "output_type": "display_data"
    }
   ],
   "source": [
    "# Visualizing the missing data\n",
    "import seaborn as sns\n",
    "\n",
    "# Visualize the missing data in a heatmap\n",
    "plt.figure(figsize=(8, 6))\n",
    "sns.heatmap(train_df.isnull(), cbar=False, cmap='viridis')\n",
    "plt.title(\"Missing Data Heatmap\")\n",
    "plt.show()"
   ]
  },
  {
   "cell_type": "code",
   "execution_count": 32,
   "metadata": {},
   "outputs": [
    {
     "name": "stdout",
     "output_type": "stream",
     "text": [
      "\n",
      "The model used is a simple neural network architecture with the following components:\n",
      "1. **Embedding Layer**: Converts the sparse input (text represented by TF-IDF) into dense word representations.\n",
      "2. **Dense Layer**: Fully connected layer with ReLU activation function to capture non-linear relationships.\n",
      "3. **Output Layer**: Sigmoid function to perform binary classification (disaster-related or non-disaster-related).\n",
      "\n"
     ]
    }
   ],
   "source": [
    "# Model Explanation\n",
    "print(\"\"\"\n",
    "The model used is a simple neural network architecture with the following components:\n",
    "1. **Embedding Layer**: Converts the sparse input (text represented by TF-IDF) into dense word representations.\n",
    "2. **Dense Layer**: Fully connected layer with ReLU activation function to capture non-linear relationships.\n",
    "3. **Output Layer**: Sigmoid function to perform binary classification (disaster-related or non-disaster-related).\n",
    "\"\"\")"
   ]
  },
  {
   "cell_type": "code",
   "execution_count": null,
   "metadata": {},
   "outputs": [],
   "source": [
    "# Example of summary of the results\n",
    "print(\"\"\"\n",
    "The model performed reasonably well, but there are potential improvements:\n",
    "- Exploring more advanced architectures like LSTM could help in understanding sequential dependencies in the text.\n",
    "- Hyperparameter tuning (e.g., number of layers, dropout rates) could further improve the performance.\n",
    "- We could try using different vectorization methods like GloVe embeddings to see if they perform better than TF-IDF.\n",
    "\"\"\")\n"
   ]
  }
 ],
 "metadata": {
  "kernelspec": {
   "display_name": "Python 3",
   "language": "python",
   "name": "python3"
  },
  "language_info": {
   "codemirror_mode": {
    "name": "ipython",
    "version": 3
   },
   "file_extension": ".py",
   "mimetype": "text/x-python",
   "name": "python",
   "nbconvert_exporter": "python",
   "pygments_lexer": "ipython3",
   "version": "3.7.6"
  }
 },
 "nbformat": 4,
 "nbformat_minor": 4
}
